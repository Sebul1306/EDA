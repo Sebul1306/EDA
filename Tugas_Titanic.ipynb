{
  "cells": [
    {
      "cell_type": "markdown",
      "id": "9b09900f",
      "metadata": {
        "id": "9b09900f"
      },
      "source": [
        "## Investigasi sampel data titanic berikut dengan cara :\n",
        "1. Cek secara head, tail, sample, info lalu observasi apa yang bisa anda peroleh ?\n",
        "2. Lakukan Statistical Summary dengan mengekstrak informasi yang didapat dari observasi anda ?\n",
        "3. Cek apakah ada duplikat dan bagaimana handlenya ?\n",
        "4. Cek apakah ada missing value, berapa persentasenya jika ada, dan bagaimana cara handlenya ?"
      ]
    },
    {
      "cell_type": "markdown",
      "id": "7141cb6c",
      "metadata": {
        "id": "7141cb6c"
      },
      "source": [
        "## Import Libraries"
      ]
    },
    {
      "cell_type": "code",
      "execution_count": 3,
      "id": "d81cf831",
      "metadata": {
        "id": "d81cf831"
      },
      "outputs": [],
      "source": [
        "import numpy as np\n",
        "import pandas as pd\n",
        "import seaborn as sns\n",
        "import matplotlib.pyplot as plt\n",
        "pd.set_option(\"display.max_columns\", None)\n",
        "pd.set_option(\"display.max_rows\", None)"
      ]
    },
    {
      "cell_type": "code",
      "execution_count": 4,
      "id": "1f195200",
      "metadata": {
        "id": "1f195200",
        "outputId": "45aaf212-b3be-4679-ad6f-0e7929c0f500",
        "colab": {
          "base_uri": "https://localhost:8080/",
          "height": 206
        }
      },
      "outputs": [
        {
          "output_type": "execute_result",
          "data": {
            "text/plain": [
              "   survived                                             name     sex      age\n",
              "0         1                    Allen, Miss. Elisabeth Walton  female  29.0000\n",
              "1         1                   Allison, Master. Hudson Trevor    male   0.9167\n",
              "2         0                     Allison, Miss. Helen Loraine  female   2.0000\n",
              "3         0             Allison, Mr. Hudson Joshua Creighton    male  30.0000\n",
              "4         0  Allison, Mrs. Hudson J C (Bessie Waldo Daniels)  female  25.0000"
            ],
            "text/html": [
              "\n",
              "  <div id=\"df-9d95bedc-6e8b-428c-b651-f04fd5b0bd44\" class=\"colab-df-container\">\n",
              "    <div>\n",
              "<style scoped>\n",
              "    .dataframe tbody tr th:only-of-type {\n",
              "        vertical-align: middle;\n",
              "    }\n",
              "\n",
              "    .dataframe tbody tr th {\n",
              "        vertical-align: top;\n",
              "    }\n",
              "\n",
              "    .dataframe thead th {\n",
              "        text-align: right;\n",
              "    }\n",
              "</style>\n",
              "<table border=\"1\" class=\"dataframe\">\n",
              "  <thead>\n",
              "    <tr style=\"text-align: right;\">\n",
              "      <th></th>\n",
              "      <th>survived</th>\n",
              "      <th>name</th>\n",
              "      <th>sex</th>\n",
              "      <th>age</th>\n",
              "    </tr>\n",
              "  </thead>\n",
              "  <tbody>\n",
              "    <tr>\n",
              "      <th>0</th>\n",
              "      <td>1</td>\n",
              "      <td>Allen, Miss. Elisabeth Walton</td>\n",
              "      <td>female</td>\n",
              "      <td>29.0000</td>\n",
              "    </tr>\n",
              "    <tr>\n",
              "      <th>1</th>\n",
              "      <td>1</td>\n",
              "      <td>Allison, Master. Hudson Trevor</td>\n",
              "      <td>male</td>\n",
              "      <td>0.9167</td>\n",
              "    </tr>\n",
              "    <tr>\n",
              "      <th>2</th>\n",
              "      <td>0</td>\n",
              "      <td>Allison, Miss. Helen Loraine</td>\n",
              "      <td>female</td>\n",
              "      <td>2.0000</td>\n",
              "    </tr>\n",
              "    <tr>\n",
              "      <th>3</th>\n",
              "      <td>0</td>\n",
              "      <td>Allison, Mr. Hudson Joshua Creighton</td>\n",
              "      <td>male</td>\n",
              "      <td>30.0000</td>\n",
              "    </tr>\n",
              "    <tr>\n",
              "      <th>4</th>\n",
              "      <td>0</td>\n",
              "      <td>Allison, Mrs. Hudson J C (Bessie Waldo Daniels)</td>\n",
              "      <td>female</td>\n",
              "      <td>25.0000</td>\n",
              "    </tr>\n",
              "  </tbody>\n",
              "</table>\n",
              "</div>\n",
              "    <div class=\"colab-df-buttons\">\n",
              "\n",
              "  <div class=\"colab-df-container\">\n",
              "    <button class=\"colab-df-convert\" onclick=\"convertToInteractive('df-9d95bedc-6e8b-428c-b651-f04fd5b0bd44')\"\n",
              "            title=\"Convert this dataframe to an interactive table.\"\n",
              "            style=\"display:none;\">\n",
              "\n",
              "  <svg xmlns=\"http://www.w3.org/2000/svg\" height=\"24px\" viewBox=\"0 -960 960 960\">\n",
              "    <path d=\"M120-120v-720h720v720H120Zm60-500h600v-160H180v160Zm220 220h160v-160H400v160Zm0 220h160v-160H400v160ZM180-400h160v-160H180v160Zm440 0h160v-160H620v160ZM180-180h160v-160H180v160Zm440 0h160v-160H620v160Z\"/>\n",
              "  </svg>\n",
              "    </button>\n",
              "\n",
              "  <style>\n",
              "    .colab-df-container {\n",
              "      display:flex;\n",
              "      gap: 12px;\n",
              "    }\n",
              "\n",
              "    .colab-df-convert {\n",
              "      background-color: #E8F0FE;\n",
              "      border: none;\n",
              "      border-radius: 50%;\n",
              "      cursor: pointer;\n",
              "      display: none;\n",
              "      fill: #1967D2;\n",
              "      height: 32px;\n",
              "      padding: 0 0 0 0;\n",
              "      width: 32px;\n",
              "    }\n",
              "\n",
              "    .colab-df-convert:hover {\n",
              "      background-color: #E2EBFA;\n",
              "      box-shadow: 0px 1px 2px rgba(60, 64, 67, 0.3), 0px 1px 3px 1px rgba(60, 64, 67, 0.15);\n",
              "      fill: #174EA6;\n",
              "    }\n",
              "\n",
              "    .colab-df-buttons div {\n",
              "      margin-bottom: 4px;\n",
              "    }\n",
              "\n",
              "    [theme=dark] .colab-df-convert {\n",
              "      background-color: #3B4455;\n",
              "      fill: #D2E3FC;\n",
              "    }\n",
              "\n",
              "    [theme=dark] .colab-df-convert:hover {\n",
              "      background-color: #434B5C;\n",
              "      box-shadow: 0px 1px 3px 1px rgba(0, 0, 0, 0.15);\n",
              "      filter: drop-shadow(0px 1px 2px rgba(0, 0, 0, 0.3));\n",
              "      fill: #FFFFFF;\n",
              "    }\n",
              "  </style>\n",
              "\n",
              "    <script>\n",
              "      const buttonEl =\n",
              "        document.querySelector('#df-9d95bedc-6e8b-428c-b651-f04fd5b0bd44 button.colab-df-convert');\n",
              "      buttonEl.style.display =\n",
              "        google.colab.kernel.accessAllowed ? 'block' : 'none';\n",
              "\n",
              "      async function convertToInteractive(key) {\n",
              "        const element = document.querySelector('#df-9d95bedc-6e8b-428c-b651-f04fd5b0bd44');\n",
              "        const dataTable =\n",
              "          await google.colab.kernel.invokeFunction('convertToInteractive',\n",
              "                                                    [key], {});\n",
              "        if (!dataTable) return;\n",
              "\n",
              "        const docLinkHtml = 'Like what you see? Visit the ' +\n",
              "          '<a target=\"_blank\" href=https://colab.research.google.com/notebooks/data_table.ipynb>data table notebook</a>'\n",
              "          + ' to learn more about interactive tables.';\n",
              "        element.innerHTML = '';\n",
              "        dataTable['output_type'] = 'display_data';\n",
              "        await google.colab.output.renderOutput(dataTable, element);\n",
              "        const docLink = document.createElement('div');\n",
              "        docLink.innerHTML = docLinkHtml;\n",
              "        element.appendChild(docLink);\n",
              "      }\n",
              "    </script>\n",
              "  </div>\n",
              "\n",
              "\n",
              "<div id=\"df-e76db95a-100d-4492-b1a5-e3035ac59b6c\">\n",
              "  <button class=\"colab-df-quickchart\" onclick=\"quickchart('df-e76db95a-100d-4492-b1a5-e3035ac59b6c')\"\n",
              "            title=\"Suggest charts\"\n",
              "            style=\"display:none;\">\n",
              "\n",
              "<svg xmlns=\"http://www.w3.org/2000/svg\" height=\"24px\"viewBox=\"0 0 24 24\"\n",
              "     width=\"24px\">\n",
              "    <g>\n",
              "        <path d=\"M19 3H5c-1.1 0-2 .9-2 2v14c0 1.1.9 2 2 2h14c1.1 0 2-.9 2-2V5c0-1.1-.9-2-2-2zM9 17H7v-7h2v7zm4 0h-2V7h2v10zm4 0h-2v-4h2v4z\"/>\n",
              "    </g>\n",
              "</svg>\n",
              "  </button>\n",
              "\n",
              "<style>\n",
              "  .colab-df-quickchart {\n",
              "      --bg-color: #E8F0FE;\n",
              "      --fill-color: #1967D2;\n",
              "      --hover-bg-color: #E2EBFA;\n",
              "      --hover-fill-color: #174EA6;\n",
              "      --disabled-fill-color: #AAA;\n",
              "      --disabled-bg-color: #DDD;\n",
              "  }\n",
              "\n",
              "  [theme=dark] .colab-df-quickchart {\n",
              "      --bg-color: #3B4455;\n",
              "      --fill-color: #D2E3FC;\n",
              "      --hover-bg-color: #434B5C;\n",
              "      --hover-fill-color: #FFFFFF;\n",
              "      --disabled-bg-color: #3B4455;\n",
              "      --disabled-fill-color: #666;\n",
              "  }\n",
              "\n",
              "  .colab-df-quickchart {\n",
              "    background-color: var(--bg-color);\n",
              "    border: none;\n",
              "    border-radius: 50%;\n",
              "    cursor: pointer;\n",
              "    display: none;\n",
              "    fill: var(--fill-color);\n",
              "    height: 32px;\n",
              "    padding: 0;\n",
              "    width: 32px;\n",
              "  }\n",
              "\n",
              "  .colab-df-quickchart:hover {\n",
              "    background-color: var(--hover-bg-color);\n",
              "    box-shadow: 0 1px 2px rgba(60, 64, 67, 0.3), 0 1px 3px 1px rgba(60, 64, 67, 0.15);\n",
              "    fill: var(--button-hover-fill-color);\n",
              "  }\n",
              "\n",
              "  .colab-df-quickchart-complete:disabled,\n",
              "  .colab-df-quickchart-complete:disabled:hover {\n",
              "    background-color: var(--disabled-bg-color);\n",
              "    fill: var(--disabled-fill-color);\n",
              "    box-shadow: none;\n",
              "  }\n",
              "\n",
              "  .colab-df-spinner {\n",
              "    border: 2px solid var(--fill-color);\n",
              "    border-color: transparent;\n",
              "    border-bottom-color: var(--fill-color);\n",
              "    animation:\n",
              "      spin 1s steps(1) infinite;\n",
              "  }\n",
              "\n",
              "  @keyframes spin {\n",
              "    0% {\n",
              "      border-color: transparent;\n",
              "      border-bottom-color: var(--fill-color);\n",
              "      border-left-color: var(--fill-color);\n",
              "    }\n",
              "    20% {\n",
              "      border-color: transparent;\n",
              "      border-left-color: var(--fill-color);\n",
              "      border-top-color: var(--fill-color);\n",
              "    }\n",
              "    30% {\n",
              "      border-color: transparent;\n",
              "      border-left-color: var(--fill-color);\n",
              "      border-top-color: var(--fill-color);\n",
              "      border-right-color: var(--fill-color);\n",
              "    }\n",
              "    40% {\n",
              "      border-color: transparent;\n",
              "      border-right-color: var(--fill-color);\n",
              "      border-top-color: var(--fill-color);\n",
              "    }\n",
              "    60% {\n",
              "      border-color: transparent;\n",
              "      border-right-color: var(--fill-color);\n",
              "    }\n",
              "    80% {\n",
              "      border-color: transparent;\n",
              "      border-right-color: var(--fill-color);\n",
              "      border-bottom-color: var(--fill-color);\n",
              "    }\n",
              "    90% {\n",
              "      border-color: transparent;\n",
              "      border-bottom-color: var(--fill-color);\n",
              "    }\n",
              "  }\n",
              "</style>\n",
              "\n",
              "  <script>\n",
              "    async function quickchart(key) {\n",
              "      const quickchartButtonEl =\n",
              "        document.querySelector('#' + key + ' button');\n",
              "      quickchartButtonEl.disabled = true;  // To prevent multiple clicks.\n",
              "      quickchartButtonEl.classList.add('colab-df-spinner');\n",
              "      try {\n",
              "        const charts = await google.colab.kernel.invokeFunction(\n",
              "            'suggestCharts', [key], {});\n",
              "      } catch (error) {\n",
              "        console.error('Error during call to suggestCharts:', error);\n",
              "      }\n",
              "      quickchartButtonEl.classList.remove('colab-df-spinner');\n",
              "      quickchartButtonEl.classList.add('colab-df-quickchart-complete');\n",
              "    }\n",
              "    (() => {\n",
              "      let quickchartButtonEl =\n",
              "        document.querySelector('#df-e76db95a-100d-4492-b1a5-e3035ac59b6c button');\n",
              "      quickchartButtonEl.style.display =\n",
              "        google.colab.kernel.accessAllowed ? 'block' : 'none';\n",
              "    })();\n",
              "  </script>\n",
              "</div>\n",
              "\n",
              "    </div>\n",
              "  </div>\n"
            ],
            "application/vnd.google.colaboratory.intrinsic+json": {
              "type": "dataframe",
              "variable_name": "df",
              "summary": "{\n  \"name\": \"df\",\n  \"rows\": 500,\n  \"fields\": [\n    {\n      \"column\": \"survived\",\n      \"properties\": {\n        \"dtype\": \"number\",\n        \"std\": 0,\n        \"min\": 0,\n        \"max\": 1,\n        \"num_unique_values\": 2,\n        \"samples\": [\n          0,\n          1\n        ],\n        \"semantic_type\": \"\",\n        \"description\": \"\"\n      }\n    },\n    {\n      \"column\": \"name\",\n      \"properties\": {\n        \"dtype\": \"string\",\n        \"num_unique_values\": 499,\n        \"samples\": [\n          \"Jacobsohn, Mrs. Sidney Samuel (Amy Frances Christy)\",\n          \"Cleaver, Miss. Alice\"\n        ],\n        \"semantic_type\": \"\",\n        \"description\": \"\"\n      }\n    },\n    {\n      \"column\": \"sex\",\n      \"properties\": {\n        \"dtype\": \"category\",\n        \"num_unique_values\": 2,\n        \"samples\": [\n          \"male\",\n          \"female\"\n        ],\n        \"semantic_type\": \"\",\n        \"description\": \"\"\n      }\n    },\n    {\n      \"column\": \"age\",\n      \"properties\": {\n        \"dtype\": \"number\",\n        \"std\": 14.766454299204053,\n        \"min\": 0.6667,\n        \"max\": 80.0,\n        \"num_unique_values\": 73,\n        \"samples\": [\n          25.0,\n          62.0\n        ],\n        \"semantic_type\": \"\",\n        \"description\": \"\"\n      }\n    }\n  ]\n}"
            }
          },
          "metadata": {},
          "execution_count": 4
        }
      ],
      "source": [
        "# import data\n",
        "df = pd.read_excel('titanic.xlsx')\n",
        "df.head()"
      ]
    },
    {
      "cell_type": "code",
      "execution_count": 6,
      "id": "1ae2a6de",
      "metadata": {
        "id": "1ae2a6de",
        "colab": {
          "base_uri": "https://localhost:8080/"
        },
        "outputId": "8a313978-cde8-4aaa-e875-392bcf038a2b"
      },
      "outputs": [
        {
          "output_type": "stream",
          "name": "stdout",
          "text": [
            "   survived                                             name     sex      age\n",
            "0         1                    Allen, Miss. Elisabeth Walton  female  29.0000\n",
            "1         1                   Allison, Master. Hudson Trevor    male   0.9167\n",
            "2         0                     Allison, Miss. Helen Loraine  female   2.0000\n",
            "3         0             Allison, Mr. Hudson Joshua Creighton    male  30.0000\n",
            "4         0  Allison, Mrs. Hudson J C (Bessie Waldo Daniels)  female  25.0000\n"
          ]
        }
      ],
      "source": [
        "# Melihat 5 baris pertama\n",
        "print(df.head())\n",
        "\n"
      ]
    },
    {
      "cell_type": "code",
      "source": [
        "# Melihat 5 baris terakhir\n",
        "print(df.tail())\n"
      ],
      "metadata": {
        "colab": {
          "base_uri": "https://localhost:8080/"
        },
        "id": "_KtZs82mW_zv",
        "outputId": "92581047-c229-4748-9fe3-dcf13139d7af"
      },
      "id": "_KtZs82mW_zv",
      "execution_count": 7,
      "outputs": [
        {
          "output_type": "stream",
          "name": "stdout",
          "text": [
            "     survived                                     name     sex   age\n",
            "495         1  Mallet, Mrs. Albert (Antoinette Magnin)  female  24.0\n",
            "496         0        Mangiavacchi, Mr. Serafino Emilio    male   NaN\n",
            "497         0               Matthews, Mr. William John    male  30.0\n",
            "498         0                Maybery, Mr. Frank Hubert    male  40.0\n",
            "499         0                McCrae, Mr. Arthur Gordon    male  32.0\n"
          ]
        }
      ]
    },
    {
      "cell_type": "code",
      "source": [
        "# Melihat sampel acak dari dataset\n",
        "print(df.sample(5))\n"
      ],
      "metadata": {
        "colab": {
          "base_uri": "https://localhost:8080/"
        },
        "id": "K4sCJBukXDom",
        "outputId": "9c1fc15c-50e9-4046-9dda-bca22c657df8"
      },
      "id": "K4sCJBukXDom",
      "execution_count": 8,
      "outputs": [
        {
          "output_type": "stream",
          "name": "stdout",
          "text": [
            "     survived                                         name     sex   age\n",
            "480         1     Laroche, Miss. Simonne Marie Anne Andree  female   3.0\n",
            "437         1  Hart, Mrs. Benjamin (Esther Ada Bloomfield)  female  45.0\n",
            "450         1        Hocking, Mrs. Elizabeth (Eliza Needs)  female  54.0\n",
            "376         0                   Collander, Mr. Erik Gustaf    male  28.0\n",
            "27          1      Bishop, Mrs. Dickinson H (Helen Walton)  female  19.0\n"
          ]
        }
      ]
    },
    {
      "cell_type": "code",
      "source": [
        "# Melihat informasi umum dataset\n",
        "print(df.info())\n"
      ],
      "metadata": {
        "colab": {
          "base_uri": "https://localhost:8080/"
        },
        "id": "FNQLSimHXGU3",
        "outputId": "2cddbe75-a0a6-487b-a9bd-5bc5b40cc346"
      },
      "id": "FNQLSimHXGU3",
      "execution_count": 9,
      "outputs": [
        {
          "output_type": "stream",
          "name": "stdout",
          "text": [
            "<class 'pandas.core.frame.DataFrame'>\n",
            "RangeIndex: 500 entries, 0 to 499\n",
            "Data columns (total 4 columns):\n",
            " #   Column    Non-Null Count  Dtype  \n",
            "---  ------    --------------  -----  \n",
            " 0   survived  500 non-null    int64  \n",
            " 1   name      500 non-null    object \n",
            " 2   sex       500 non-null    object \n",
            " 3   age       451 non-null    float64\n",
            "dtypes: float64(1), int64(1), object(2)\n",
            "memory usage: 15.8+ KB\n",
            "None\n"
          ]
        }
      ]
    },
    {
      "cell_type": "code",
      "source": [
        "# Statistik deskriptif untuk kolom numerik\n",
        "print(df.describe())\n"
      ],
      "metadata": {
        "colab": {
          "base_uri": "https://localhost:8080/"
        },
        "id": "hc6ei1jqXLHd",
        "outputId": "13218366-9ab8-44f4-8f15-614fcafa565d"
      },
      "id": "hc6ei1jqXLHd",
      "execution_count": 10,
      "outputs": [
        {
          "output_type": "stream",
          "name": "stdout",
          "text": [
            "         survived         age\n",
            "count  500.000000  451.000000\n",
            "mean     0.540000   35.917775\n",
            "std      0.498897   14.766454\n",
            "min      0.000000    0.666700\n",
            "25%      0.000000   24.000000\n",
            "50%      1.000000   35.000000\n",
            "75%      1.000000   47.000000\n",
            "max      1.000000   80.000000\n"
          ]
        }
      ]
    },
    {
      "cell_type": "code",
      "source": [
        "# Statistik deskriptif untuk semua kolom termasuk non-numerik\n",
        "print(df.describe(include='all'))\n"
      ],
      "metadata": {
        "colab": {
          "base_uri": "https://localhost:8080/"
        },
        "id": "r0aTvIVpXO61",
        "outputId": "737fa9bf-38ec-4ea7-ffe1-e896938ff5ec"
      },
      "id": "r0aTvIVpXO61",
      "execution_count": 11,
      "outputs": [
        {
          "output_type": "stream",
          "name": "stdout",
          "text": [
            "          survived                            name   sex         age\n",
            "count   500.000000                             500   500  451.000000\n",
            "unique         NaN                             499     2         NaN\n",
            "top            NaN  Eustis, Miss. Elizabeth Mussey  male         NaN\n",
            "freq           NaN                               2   288         NaN\n",
            "mean      0.540000                             NaN   NaN   35.917775\n",
            "std       0.498897                             NaN   NaN   14.766454\n",
            "min       0.000000                             NaN   NaN    0.666700\n",
            "25%       0.000000                             NaN   NaN   24.000000\n",
            "50%       1.000000                             NaN   NaN   35.000000\n",
            "75%       1.000000                             NaN   NaN   47.000000\n",
            "max       1.000000                             NaN   NaN   80.000000\n"
          ]
        }
      ]
    },
    {
      "cell_type": "code",
      "source": [
        "# Memeriksa apakah ada duplikasi\n",
        "print(df.duplicated().sum())\n"
      ],
      "metadata": {
        "colab": {
          "base_uri": "https://localhost:8080/"
        },
        "id": "-7nt6qplXT4R",
        "outputId": "fb19929d-5c9a-4900-a250-14bd8b329260"
      },
      "id": "-7nt6qplXT4R",
      "execution_count": 12,
      "outputs": [
        {
          "output_type": "stream",
          "name": "stdout",
          "text": [
            "1\n"
          ]
        }
      ]
    },
    {
      "cell_type": "code",
      "source": [
        "# Menghapus baris duplikasi\n",
        "df = df.drop_duplicates()\n"
      ],
      "metadata": {
        "id": "z0mh03FPXYKZ"
      },
      "id": "z0mh03FPXYKZ",
      "execution_count": 13,
      "outputs": []
    },
    {
      "cell_type": "code",
      "source": [
        "# Memastikan duplikasi telah dihapus\n",
        "print(df.duplicated().sum())\n"
      ],
      "metadata": {
        "colab": {
          "base_uri": "https://localhost:8080/"
        },
        "id": "Qb2qV8tJXavP",
        "outputId": "6857ff4d-a904-4677-d392-15420aa03210"
      },
      "id": "Qb2qV8tJXavP",
      "execution_count": 14,
      "outputs": [
        {
          "output_type": "stream",
          "name": "stdout",
          "text": [
            "0\n"
          ]
        }
      ]
    },
    {
      "cell_type": "code",
      "source": [
        "# Menghitung jumlah nilai yang hilang di setiap kolom\n",
        "print(df.isnull().sum())\n",
        "\n"
      ],
      "metadata": {
        "colab": {
          "base_uri": "https://localhost:8080/"
        },
        "id": "F__XBFjEXfKh",
        "outputId": "15f4e14f-86ff-421c-d68a-0e20a621ff57"
      },
      "id": "F__XBFjEXfKh",
      "execution_count": 15,
      "outputs": [
        {
          "output_type": "stream",
          "name": "stdout",
          "text": [
            "survived     0\n",
            "name         0\n",
            "sex          0\n",
            "age         49\n",
            "dtype: int64\n"
          ]
        }
      ]
    },
    {
      "cell_type": "code",
      "source": [
        "# Menghitung persentase nilai yang hilang\n",
        "print((df.isnull().sum() / len(df)) * 100)\n"
      ],
      "metadata": {
        "colab": {
          "base_uri": "https://localhost:8080/"
        },
        "id": "3oeGCSzgXjTb",
        "outputId": "23dac450-e2b3-4a2c-f1ff-d417cf447475"
      },
      "id": "3oeGCSzgXjTb",
      "execution_count": 16,
      "outputs": [
        {
          "output_type": "stream",
          "name": "stdout",
          "text": [
            "survived    0.000000\n",
            "name        0.000000\n",
            "sex         0.000000\n",
            "age         9.819639\n",
            "dtype: float64\n"
          ]
        }
      ]
    },
    {
      "cell_type": "code",
      "source": [
        "#  Mengisi nilai yang hilang dengan rata-rata\n",
        "\n",
        "df['age'] = df['age'].fillna(df['age'].mean())\n",
        "\n"
      ],
      "metadata": {
        "id": "F-psbwGzXt9b"
      },
      "id": "F-psbwGzXt9b",
      "execution_count": 18,
      "outputs": []
    },
    {
      "cell_type": "code",
      "source": [
        "# -Menghapus baris dengan nilai yang hilang\n",
        "df = df.dropna()\n"
      ],
      "metadata": {
        "id": "QZ6umGxlYLpR"
      },
      "id": "QZ6umGxlYLpR",
      "execution_count": 21,
      "outputs": []
    },
    {
      "cell_type": "code",
      "source": [
        "# - Menghapus kolom dengan nilai yang hilang\n",
        "df = df.dropna(axis=1)\n"
      ],
      "metadata": {
        "id": "-YI-hYlCYQxQ"
      },
      "id": "-YI-hYlCYQxQ",
      "execution_count": 22,
      "outputs": []
    },
    {
      "cell_type": "code",
      "source": [
        "# Menyimpan data ke file CSV\n",
        "df.to_csv('hasil_analisis_titanic.csv', index=False)\n",
        "\n"
      ],
      "metadata": {
        "id": "_6wZPUG8YbkH"
      },
      "id": "_6wZPUG8YbkH",
      "execution_count": 23,
      "outputs": []
    },
    {
      "cell_type": "code",
      "source": [
        "# Menyimpan data ke file Excel\n",
        "df.to_excel('hasil_analisis_titanic.xlsx', index=False)\n"
      ],
      "metadata": {
        "id": "dT_2DIr-Ykd-"
      },
      "id": "dT_2DIr-Ykd-",
      "execution_count": 24,
      "outputs": []
    }
  ],
  "metadata": {
    "kernelspec": {
      "display_name": "Python 3 (ipykernel)",
      "language": "python",
      "name": "python3"
    },
    "language_info": {
      "codemirror_mode": {
        "name": "ipython",
        "version": 3
      },
      "file_extension": ".py",
      "mimetype": "text/x-python",
      "name": "python",
      "nbconvert_exporter": "python",
      "pygments_lexer": "ipython3",
      "version": "3.11.4"
    },
    "colab": {
      "provenance": []
    }
  },
  "nbformat": 4,
  "nbformat_minor": 5
}